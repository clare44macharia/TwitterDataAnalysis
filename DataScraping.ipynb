{
 "cells": [
  {
   "cell_type": "code",
   "execution_count": 1,
   "metadata": {},
   "outputs": [],
   "source": [
    "import pandas as pd"
   ]
  },
  {
   "cell_type": "code",
   "execution_count": 2,
   "metadata": {},
   "outputs": [],
   "source": [
    "import json"
   ]
  },
  {
   "cell_type": "code",
   "execution_count": 3,
   "metadata": {},
   "outputs": [],
   "source": [
    "twitter_access_cred = dict()"
   ]
  },
  {
   "cell_type": "code",
   "execution_count": 4,
   "metadata": {},
   "outputs": [],
   "source": [
    "twitter_access_cred ['API_KEY']= '9ajStq3NLBA63RCyp71Djg0Nx'\n",
    "twitter_access_cred ['API_SECRET_KEY'] = 'FmDvCk6PaKgYkditB0uauugxx3BF1oWSOwyT2jb57fsjfBWpGW'\n",
    "twitter_access_cred ['ACCESS_TOKEN'] = '784755365909061633-cPt1bOvZK25WWflkPNYFGO8XSzZ8nKC'\n",
    "twitter_access_cred ['ACCESS_TOKEN_SECRET'] = 'rziLHlOzexyOoMzRTYqrghASx5yUchkfrOgvXq9zesiPu'"
   ]
  },
  {
   "cell_type": "code",
   "execution_count": 5,
   "metadata": {},
   "outputs": [],
   "source": [
    "with open('twitter_credentials.json', 'w') as secret_info:\n",
    "    json.dump(twitter_access_cred, secret_info, indent=4, sort_keys=True)"
   ]
  },
  {
   "cell_type": "code",
   "execution_count": 6,
   "metadata": {},
   "outputs": [],
   "source": [
    "import tweepy"
   ]
  },
  {
   "cell_type": "code",
   "execution_count": 7,
   "metadata": {},
   "outputs": [],
   "source": [
    "import csv"
   ]
  },
  {
   "cell_type": "code",
   "execution_count": 8,
   "metadata": {},
   "outputs": [],
   "source": [
    "with open('twitter_credentials.json') as access_data:\n",
    "    cred = json.load(access_data)\n",
    "    api_key = cred['API_KEY']\n",
    "    api_secret_key = cred['API_SECRET_KEY']\n",
    "    access_token = cred['ACCESS_TOKEN']\n",
    "    access_token_secret = cred['ACCESS_TOKEN_SECRET']"
   ]
  },
  {
   "cell_type": "code",
   "execution_count": 9,
   "metadata": {},
   "outputs": [],
   "source": [
    "auth = tweepy.OAuthHandler(api_key, api_secret_key)\n",
    "api = tweepy.API(auth)"
   ]
  },
  {
   "cell_type": "code",
   "execution_count": 10,
   "metadata": {},
   "outputs": [
    {
     "name": "stdout",
     "output_type": "stream",
     "text": [
      "Enter the number of tweets that you want to extract- 300\n"
     ]
    }
   ],
   "source": [
    "max_tweets_to_be_extracted = \\\n",
    "int(input('Enter the number of tweets that you want to extract- '))"
   ]
  },
  {
   "cell_type": "code",
   "execution_count": 11,
   "metadata": {},
   "outputs": [
    {
     "name": "stdout",
     "output_type": "stream",
     "text": [
      "Enter the hashtag you want to scrape- valentines\n"
     ]
    }
   ],
   "source": [
    "hashtag = input('Enter the hashtag you want to scrape- ')"
   ]
  },
  {
   "cell_type": "code",
   "execution_count": 24,
   "metadata": {},
   "outputs": [],
   "source": [
    "for tweet in tweepy.Cursor(api.search, q='#' + hashtag,\n",
    "    rpp=100).items(number_of_tweets_to_be_extracted):\n",
    "    with open('tweets_with_hashtag_' + hashtag + '.json', 'a') as \\\n",
    "            the_file:\n",
    "            the_file.write(str(tweet.text.encode('utf-8')))\n"
   ]
  },
  {
   "cell_type": "code",
   "execution_count": 16,
   "metadata": {},
   "outputs": [
    {
     "name": "stdout",
     "output_type": "stream",
     "text": [
      "Extracted 300 tweets with hashtag #valentines\n"
     ]
    }
   ],
   "source": [
    "print ('Extracted ' + str(number_of_tweets_to_be_extracted) \\\n",
    "+ ' tweets with hashtag #' + hashtag)"
   ]
  },
  {
   "cell_type": "code",
   "execution_count": 21,
   "metadata": {},
   "outputs": [],
   "source": [
    "with open('tweets_with_hashtag_valentines.txt', 'r') as in_file:\n",
    "    stripped = (line.strip() for line in in_file)\n",
    "    lines = (line.split(\"\\n\") for line in stripped if line)\n",
    "    with open('tweets_with_hashtag_valentines.csv', 'w') as out_file:\n",
    "        writer = csv.writer(out_file)\n",
    "        writer.writerow(('username', 'content'))\n",
    "        writer.writerows(lines)"
   ]
  },
  {
   "cell_type": "code",
   "execution_count": null,
   "metadata": {},
   "outputs": [],
   "source": []
  }
 ],
 "metadata": {
  "kernelspec": {
   "display_name": "Python 3",
   "language": "python",
   "name": "python3"
  },
  "language_info": {
   "codemirror_mode": {
    "name": "ipython",
    "version": 3
   },
   "file_extension": ".py",
   "mimetype": "text/x-python",
   "name": "python",
   "nbconvert_exporter": "python",
   "pygments_lexer": "ipython3",
   "version": "3.7.4"
  }
 },
 "nbformat": 4,
 "nbformat_minor": 2
}
