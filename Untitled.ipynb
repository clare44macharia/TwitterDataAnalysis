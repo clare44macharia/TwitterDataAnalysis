{
 "cells": [
  {
   "cell_type": "code",
   "execution_count": 1,
   "metadata": {},
   "outputs": [],
   "source": [
    "import numpy as np\n",
    "import pandas as pd\n",
    "import matplotlib.pyplot as plt"
   ]
  },
  {
   "cell_type": "code",
   "execution_count": 2,
   "metadata": {},
   "outputs": [],
   "source": [
    "df = pd.read_csv(\"valentine_tweets_loc_coordinates_final.csv\")"
   ]
  },
  {
   "cell_type": "code",
   "execution_count": 3,
   "metadata": {},
   "outputs": [
    {
     "data": {
      "text/html": [
       "<div>\n",
       "<style scoped>\n",
       "    .dataframe tbody tr th:only-of-type {\n",
       "        vertical-align: middle;\n",
       "    }\n",
       "\n",
       "    .dataframe tbody tr th {\n",
       "        vertical-align: top;\n",
       "    }\n",
       "\n",
       "    .dataframe thead th {\n",
       "        text-align: right;\n",
       "    }\n",
       "</style>\n",
       "<table border=\"1\" class=\"dataframe\">\n",
       "  <thead>\n",
       "    <tr style=\"text-align: right;\">\n",
       "      <th></th>\n",
       "      <th>user_id</th>\n",
       "      <th>feature_id</th>\n",
       "      <th>name</th>\n",
       "      <th>tweet_content</th>\n",
       "      <th>location</th>\n",
       "      <th>geo_type</th>\n",
       "      <th>screen_name</th>\n",
       "      <th>primary_geo</th>\n",
       "      <th>geo_reference</th>\n",
       "      <th>osm_lng</th>\n",
       "      <th>osm_lat</th>\n",
       "      <th>google_lng</th>\n",
       "      <th>google_lat</th>\n",
       "    </tr>\n",
       "  </thead>\n",
       "  <tbody>\n",
       "    <tr>\n",
       "      <td>0</td>\n",
       "      <td>1.170961e+18</td>\n",
       "      <td>1.170961e+18</td>\n",
       "      <td>The One</td>\n",
       "      <td>1</td>\n",
       "      <td>Huddersfield, England</td>\n",
       "      <td>User location</td>\n",
       "      <td>TheOne64977671</td>\n",
       "      <td>Huddersfield, England</td>\n",
       "      <td>Huddersfield, England</td>\n",
       "      <td>-1.782248</td>\n",
       "      <td>53.646664</td>\n",
       "      <td>-1.785035</td>\n",
       "      <td>53.645792</td>\n",
       "    </tr>\n",
       "    <tr>\n",
       "      <td>1</td>\n",
       "      <td>5.027630e+08</td>\n",
       "      <td>5.027630e+08</td>\n",
       "      <td>Jim Blair</td>\n",
       "      <td>1</td>\n",
       "      <td>London EUROPE</td>\n",
       "      <td>User location</td>\n",
       "      <td>jimgblair</td>\n",
       "      <td>London EUROPE</td>\n",
       "      <td>London EUROPE</td>\n",
       "      <td>0.055301</td>\n",
       "      <td>51.493270</td>\n",
       "      <td>-0.127758</td>\n",
       "      <td>51.507351</td>\n",
       "    </tr>\n",
       "    <tr>\n",
       "      <td>2</td>\n",
       "      <td>1.698572e+07</td>\n",
       "      <td>1.698572e+07</td>\n",
       "      <td>PMonkey</td>\n",
       "      <td>1</td>\n",
       "      <td>Altered State</td>\n",
       "      <td>User location</td>\n",
       "      <td>PMonkey</td>\n",
       "      <td>Altered State</td>\n",
       "      <td>Altered State</td>\n",
       "      <td>-70.566703</td>\n",
       "      <td>-33.417400</td>\n",
       "      <td>-86.813538</td>\n",
       "      <td>35.957118</td>\n",
       "    </tr>\n",
       "    <tr>\n",
       "      <td>3</td>\n",
       "      <td>8.956711e+17</td>\n",
       "      <td>8.956711e+17</td>\n",
       "      <td>ㅇㅅ</td>\n",
       "      <td>1</td>\n",
       "      <td>대한민국 인천</td>\n",
       "      <td>User location</td>\n",
       "      <td>yo2nsu</td>\n",
       "      <td>대한민국 인천</td>\n",
       "      <td>대한민국 인천</td>\n",
       "      <td>126.616590</td>\n",
       "      <td>37.473405</td>\n",
       "      <td>126.705206</td>\n",
       "      <td>37.456256</td>\n",
       "    </tr>\n",
       "    <tr>\n",
       "      <td>4</td>\n",
       "      <td>7.199953e+17</td>\n",
       "      <td>7.199953e+17</td>\n",
       "      <td>YouAreBeautifulBox</td>\n",
       "      <td>1</td>\n",
       "      <td>New Jersey, USA</td>\n",
       "      <td>User location</td>\n",
       "      <td>urbeautifulbox</td>\n",
       "      <td>New Jersey, USA</td>\n",
       "      <td>New Jersey, USA</td>\n",
       "      <td>-74.404162</td>\n",
       "      <td>40.075738</td>\n",
       "      <td>-74.405661</td>\n",
       "      <td>40.058324</td>\n",
       "    </tr>\n",
       "  </tbody>\n",
       "</table>\n",
       "</div>"
      ],
      "text/plain": [
       "        user_id    feature_id                name  tweet_content  \\\n",
       "0  1.170961e+18  1.170961e+18             The One              1   \n",
       "1  5.027630e+08  5.027630e+08           Jim Blair              1   \n",
       "2  1.698572e+07  1.698572e+07             PMonkey              1   \n",
       "3  8.956711e+17  8.956711e+17                  ㅇㅅ              1   \n",
       "4  7.199953e+17  7.199953e+17  YouAreBeautifulBox              1   \n",
       "\n",
       "                location       geo_type     screen_name  \\\n",
       "0  Huddersfield, England  User location  TheOne64977671   \n",
       "1          London EUROPE  User location       jimgblair   \n",
       "2          Altered State  User location         PMonkey   \n",
       "3                대한민국 인천  User location          yo2nsu   \n",
       "4        New Jersey, USA  User location  urbeautifulbox   \n",
       "\n",
       "             primary_geo          geo_reference     osm_lng    osm_lat  \\\n",
       "0  Huddersfield, England  Huddersfield, England   -1.782248  53.646664   \n",
       "1          London EUROPE          London EUROPE    0.055301  51.493270   \n",
       "2          Altered State          Altered State  -70.566703 -33.417400   \n",
       "3                대한민국 인천                대한민국 인천  126.616590  37.473405   \n",
       "4        New Jersey, USA        New Jersey, USA  -74.404162  40.075738   \n",
       "\n",
       "   google_lng  google_lat  \n",
       "0   -1.785035   53.645792  \n",
       "1   -0.127758   51.507351  \n",
       "2  -86.813538   35.957118  \n",
       "3  126.705206   37.456256  \n",
       "4  -74.405661   40.058324  "
      ]
     },
     "execution_count": 3,
     "metadata": {},
     "output_type": "execute_result"
    }
   ],
   "source": [
    "df.head(5)"
   ]
  },
  {
   "cell_type": "code",
   "execution_count": 4,
   "metadata": {},
   "outputs": [
    {
     "data": {
      "image/png": "[encoded data removed]",
      "text/plain": [
       "<Figure size 432x288 with 1 Axes>"
      ]
     },
     "metadata": {
      "needs_background": "light"
     },
     "output_type": "display_data"
    }
   ],
   "source": [
    "plt.scatter(x=df['google_lng'], y=df['google_lat'])\n",
    "plt.show()"
   ]
  },
  {
   "cell_type": "code",
   "execution_count": 20,
   "metadata": {},
   "outputs": [
    {
     "ename": "ModuleNotFoundError",
     "evalue": "No module named 'fiona'",
     "output_type": "error",
     "traceback": [
      "\u001b[0;31m---------------------------------------------------------------------------\u001b[0m",
      "\u001b[0;31mModuleNotFoundError\u001b[0m                       Traceback (most recent call last)",
      "\u001b[0;32m<ipython-input-20-a62d01c1d62e>\u001b[0m in \u001b[0;36m<module>\u001b[0;34m\u001b[0m\n\u001b[0;32m----> 1\u001b[0;31m \u001b[0;32mimport\u001b[0m \u001b[0mgeopandas\u001b[0m \u001b[0;32mas\u001b[0m \u001b[0mgpd\u001b[0m\u001b[0;34m\u001b[0m\u001b[0;34m\u001b[0m\u001b[0m\n\u001b[0m",
      "\u001b[0;32m~/anaconda3/lib/python3.7/site-packages/geopandas/__init__.py\u001b[0m in \u001b[0;36m<module>\u001b[0;34m\u001b[0m\n\u001b[1;32m      3\u001b[0m \u001b[0;32mfrom\u001b[0m \u001b[0mgeopandas\u001b[0m\u001b[0;34m.\u001b[0m\u001b[0marray\u001b[0m \u001b[0;32mimport\u001b[0m \u001b[0m_points_from_xy\u001b[0m \u001b[0;32mas\u001b[0m \u001b[0mpoints_from_xy\u001b[0m  \u001b[0;31m# noqa\u001b[0m\u001b[0;34m\u001b[0m\u001b[0;34m\u001b[0m\u001b[0m\n\u001b[1;32m      4\u001b[0m \u001b[0;34m\u001b[0m\u001b[0m\n\u001b[0;32m----> 5\u001b[0;31m \u001b[0;32mfrom\u001b[0m \u001b[0mgeopandas\u001b[0m\u001b[0;34m.\u001b[0m\u001b[0mio\u001b[0m\u001b[0;34m.\u001b[0m\u001b[0mfile\u001b[0m \u001b[0;32mimport\u001b[0m \u001b[0mread_file\u001b[0m  \u001b[0;31m# noqa\u001b[0m\u001b[0;34m\u001b[0m\u001b[0;34m\u001b[0m\u001b[0m\n\u001b[0m\u001b[1;32m      6\u001b[0m \u001b[0;32mfrom\u001b[0m \u001b[0mgeopandas\u001b[0m\u001b[0;34m.\u001b[0m\u001b[0mio\u001b[0m\u001b[0;34m.\u001b[0m\u001b[0msql\u001b[0m \u001b[0;32mimport\u001b[0m \u001b[0mread_postgis\u001b[0m  \u001b[0;31m# noqa\u001b[0m\u001b[0;34m\u001b[0m\u001b[0;34m\u001b[0m\u001b[0m\n\u001b[1;32m      7\u001b[0m \u001b[0;32mfrom\u001b[0m \u001b[0mgeopandas\u001b[0m\u001b[0;34m.\u001b[0m\u001b[0mtools\u001b[0m \u001b[0;32mimport\u001b[0m \u001b[0msjoin\u001b[0m  \u001b[0;31m# noqa\u001b[0m\u001b[0;34m\u001b[0m\u001b[0;34m\u001b[0m\u001b[0m\n",
      "\u001b[0;32m~/anaconda3/lib/python3.7/site-packages/geopandas/io/file.py\u001b[0m in \u001b[0;36m<module>\u001b[0;34m\u001b[0m\n\u001b[1;32m      4\u001b[0m \u001b[0;32mimport\u001b[0m \u001b[0msix\u001b[0m\u001b[0;34m\u001b[0m\u001b[0;34m\u001b[0m\u001b[0m\n\u001b[1;32m      5\u001b[0m \u001b[0;34m\u001b[0m\u001b[0m\n\u001b[0;32m----> 6\u001b[0;31m \u001b[0;32mimport\u001b[0m \u001b[0mfiona\u001b[0m\u001b[0;34m\u001b[0m\u001b[0;34m\u001b[0m\u001b[0m\n\u001b[0m\u001b[1;32m      7\u001b[0m \u001b[0;34m\u001b[0m\u001b[0m\n\u001b[1;32m      8\u001b[0m \u001b[0;32mfrom\u001b[0m \u001b[0mgeopandas\u001b[0m \u001b[0;32mimport\u001b[0m \u001b[0mGeoDataFrame\u001b[0m\u001b[0;34m,\u001b[0m \u001b[0mGeoSeries\u001b[0m\u001b[0;34m\u001b[0m\u001b[0;34m\u001b[0m\u001b[0m\n",
      "\u001b[0;31mModuleNotFoundError\u001b[0m: No module named 'fiona'"
     ]
    }
   ],
   "source": [
    "import geopandas as gpd"
   ]
  },
  {
   "cell_type": "code",
   "execution_count": 21,
   "metadata": {},
   "outputs": [
    {
     "name": "stdout",
     "output_type": "stream",
     "text": [
      "Collecting geopandas\n",
      "  Using cached geopandas-0.7.0-py2.py3-none-any.whl (928 kB)\n",
      "Requirement already satisfied: pandas>=0.23.0 in /home/anna/anaconda3/lib/python3.7/site-packages (from geopandas) (0.25.1)\n",
      "Requirement already satisfied: shapely in /home/anna/anaconda3/lib/python3.7/site-packages (from geopandas) (1.7.0)\n",
      "Requirement already satisfied: fiona in /home/anna/anaconda3/lib/python3.7/site-packages (from geopandas) (1.8.4)\n",
      "Collecting pyproj>=2.2.0\n",
      "  Using cached pyproj-2.5.0-cp37-cp37m-manylinux2010_x86_64.whl (10.4 MB)\n",
      "\u001b[31mERROR: Could not install packages due to an EnvironmentError: [Errno 28] No space left on device\n",
      "\u001b[0m\n",
      "Note: you may need to restart the kernel to use updated packages.\n"
     ]
    }
   ],
   "source": [
    "pip install geopandas"
   ]
  },
  {
   "cell_type": "code",
   "execution_count": null,
   "metadata": {},
   "outputs": [],
   "source": []
  }
 ],
 "metadata": {
  "kernelspec": {
   "display_name": "Python 3",
   "language": "python",
   "name": "python3"
  },
  "language_info": {
   "codemirror_mode": {
    "name": "ipython",
    "version": 3
   },
   "file_extension": ".py",
   "mimetype": "text/x-python",
   "name": "python",
   "nbconvert_exporter": "python",
   "pygments_lexer": "ipython3",
   "version": "3.7.4"
  }
 },
 "nbformat": 4,
 "nbformat_minor": 2
}
